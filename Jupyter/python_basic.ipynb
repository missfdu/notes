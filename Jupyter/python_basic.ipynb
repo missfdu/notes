{
 "cells": [
  {
   "cell_type": "markdown",
   "metadata": {},
   "source": [
    "## 输出格式"
   ]
  },
  {
   "cell_type": "code",
   "execution_count": 1,
   "metadata": {},
   "outputs": [
    {
     "name": "stdout",
     "output_type": "stream",
     "text": [
      "Use f\"..{var}..\" to print.\n",
      "Use \"..{}..\".format(arg) to print.\n",
      "Use \"..{}..\".format(arg) to print.\n",
      "Use old methods to print.\n"
     ]
    }
   ],
   "source": [
    "s1=r'f\"..{var}..\"'\n",
    "sen1=f\"Use {s1} to print.\"\n",
    "print(sen1)\n",
    "# print(sen1.format(True))\n",
    "# sen2=\"This is a {}\".format(var)\n",
    "s2=r'\"..{}..\".format(arg)'\n",
    "print(\"Use {} to print.\".format(s2))\n",
    "print(\"Use {arg} to print.\".format(arg=s2))\n",
    "#也可以使用旧式的 % 方法进行格式化\n",
    "s3=\"to print\"\n",
    "print(\"Use old methods %s.\" % (s3))"
   ]
  },
  {
   "cell_type": "markdown",
   "metadata": {},
   "source": [
    "## 切片"
   ]
  },
  {
   "cell_type": "code",
   "execution_count": 2,
   "metadata": {
    "scrolled": true
   },
   "outputs": [
    {
     "name": "stdout",
     "output_type": "stream",
     "text": [
      "s[1:-2]= ello wor\n",
      "s[::-1]= dlrow olleh\n",
      "s[:100]= hello world\n"
     ]
    }
   ],
   "source": [
    "s = \"hello world\"\n",
    "#切片用法var[lower:upper:step]\n",
    "#范围[lower, upper),step表示取值间隔大小,默认为1\n",
    "print(\"s[1:-2]=\",s[1:-2])\n",
    "#当step的值为负时，省略lower意味着从结尾开始分片，省略upper意味着一直分片到开头\n",
    "print(\"s[::-1]=\",s[::-1])\n",
    "#当给定的upper超出字符串的长度（注意：因为不包含upper，所以可以等于）时，Python并不会报错，不过只会计算到结尾\n",
    "print(\"s[:100]=\",s[:100])"
   ]
  },
  {
   "cell_type": "markdown",
   "metadata": {},
   "source": [
    "## 列表\n",
    "**与字符串不同**：可用索引和分片来查看/修改列表，但不可用索引或分片来修改字符串。即列表是mutable的，字符串是immutable的。\n",
    "因为字符串被认为是基本类型，在Python中不可变。而列表是浅拷贝的，从如下代码可看出"
   ]
  },
  {
   "cell_type": "code",
   "execution_count": 3,
   "metadata": {},
   "outputs": [
    {
     "name": "stdout",
     "output_type": "stream",
     "text": [
      "[1, [...], 3]\n",
      "[1, [...], 3]\n",
      "[1, 2, 3]\n",
      "[1, [1, 2, 3], 3]\n"
     ]
    }
   ],
   "source": [
    "a=[1,2,3]\n",
    "b=a\n",
    "c=a[:]\n",
    "a[1]=a\n",
    "print(a)\n",
    "print(b)\n",
    "print(c)\n",
    "c[1]=c[:]\n",
    "print(c)"
   ]
  },
  {
   "cell_type": "markdown",
   "metadata": {},
   "source": [
    "对于连续的分片（即步长为 1 ），Python采用的是整段替换的方法，两者的元素个数并不需要相同。这意味着，可以用这种方法来删除列表中一个连续的分片。"
   ]
  },
  {
   "cell_type": "code",
   "execution_count": 4,
   "metadata": {},
   "outputs": [
    {
     "name": "stdout",
     "output_type": "stream",
     "text": [
      "[1, 2, 3, 4]\n",
      "[1, 3, 5, 7, 9, 11]\n",
      "[1, 3, 5]\n"
     ]
    }
   ],
   "source": [
    "a=[1,2,3,4]\n",
    "print(a)\n",
    "a[1:]=[3,5,7,9,11]\n",
    "print(a)\n",
    "a[3:]=[]\n",
    "print(a)"
   ]
  },
  {
   "cell_type": "markdown",
   "metadata": {},
   "source": [
    "对于不连续（间隔step不为1）的片段进行修改时，两者的元素数目必须一致，否则会报错"
   ]
  },
  {
   "cell_type": "code",
   "execution_count": 5,
   "metadata": {
    "scrolled": true
   },
   "outputs": [
    {
     "name": "stdout",
     "output_type": "stream",
     "text": [
      "会报错 attempt to assign sequence of size 0 to extended slice of size 3\n"
     ]
    }
   ],
   "source": [
    "a=[1,2,3,4,5]\n",
    "try:\n",
    "    a[::2]=[]\n",
    "except Exception as exc:\n",
    "    print(\"会报错!\",str(exc))"
   ]
  },
  {
   "cell_type": "markdown",
   "metadata": {},
   "source": [
    "## 元组\n",
    "与列表相似，元组Tuple也是个有序序列，但是元组是不可变的，用()生成。\n",
    "由于()在表达式中被应用，只含有单个元素的元组容易和表达式混淆，所以采用下列方式定义只有一个元素的元组："
   ]
  },
  {
   "cell_type": "code",
   "execution_count": 6,
   "metadata": {},
   "outputs": [
    {
     "name": "stdout",
     "output_type": "stream",
     "text": [
      "(10,)\n",
      "<class 'tuple'>\n",
      "<class 'int'>\n"
     ]
    }
   ],
   "source": [
    "a = (10,)\n",
    "print(a)\n",
    "print(type(a))\n",
    "a = (10)\n",
    "print(type(a))"
   ]
  },
  {
   "cell_type": "markdown",
   "metadata": {},
   "source": [
    "为什么需要元组？\n",
    "- 旧式字符串格式化中参数要用元组；\n",
    "- 在字典中当作键值；\n",
    "- 数据库的返回值……\n",
    "\n",
    "列表和元组的速度比较：\n",
    "元组的生成速度会比列表快很多，迭代速度快一点，索引速度差不多。"
   ]
  },
  {
   "cell_type": "markdown",
   "metadata": {},
   "source": [
    "## 字典"
   ]
  },
  {
   "cell_type": "markdown",
   "metadata": {},
   "source": [
    "### 字典没有顺序\n",
    "当我们print一个字典时，Python并不一定按照插入键值的先后顺序进行显示,因为字典中的键本身不一定是有序的。\n",
    "而且数字本身也有可能成为键值，这样会引起混淆。因此，Python中不能用支持用数字索引按顺序查看字典中的值。"
   ]
  },
  {
   "cell_type": "markdown",
   "metadata": {},
   "source": [
    "### 键必须是不可变类型\n",
    "出于hash的目的，Python中要求这些键值对的键必须是不可变的，而值可以是任意的Python对象。"
   ]
  },
  {
   "cell_type": "markdown",
   "metadata": {},
   "source": [
    "### 使用dict()初始化字典\n",
    "除了通常的定义方式，还可以通过 dict() 转化来生成字典："
   ]
  },
  {
   "cell_type": "code",
   "execution_count": 7,
   "metadata": {},
   "outputs": [
    {
     "data": {
      "text/plain": [
       "{'foozelator': 123, 'frombicator': 18, 'spatzleblock': 34, 'snitzelhogen': 23}"
      ]
     },
     "execution_count": 7,
     "metadata": {},
     "output_type": "execute_result"
    }
   ],
   "source": [
    "inventory = dict(\n",
    "    [('foozelator', 123),\n",
    "     ('frombicator', 18), \n",
    "     ('spatzleblock', 34), \n",
    "     ('snitzelhogen', 23)\n",
    "    ])\n",
    "inventory"
   ]
  },
  {
   "cell_type": "markdown",
   "metadata": {},
   "source": [
    "### 适合做键的类型\n",
    "在不可变类型中，整数和字符串是字典中最常用的类型；而浮点数由于精度问题不推荐用来做键。"
   ]
  },
  {
   "cell_type": "code",
   "execution_count": 8,
   "metadata": {},
   "outputs": [
    {
     "name": "stdout",
     "output_type": "stream",
     "text": [
      "会报错 3.3\n"
     ]
    }
   ],
   "source": [
    "data = {}\n",
    "data[1.1 + 2.2] = 6.6\n",
    "try:\n",
    "    data[3.3]\n",
    "except KeyError as exc:\n",
    "    print(\"会报错!\",str(exc))"
   ]
  },
  {
   "cell_type": "markdown",
   "metadata": {},
   "source": [
    "有时候，也可以使用元组作为键值，例如，可以用元组做键来表示从第一个城市飞往第二个城市航班数的多少。"
   ]
  },
  {
   "cell_type": "code",
   "execution_count": 9,
   "metadata": {},
   "outputs": [
    {
     "name": "stdout",
     "output_type": "stream",
     "text": [
      "200\n",
      "400\n"
     ]
    }
   ],
   "source": [
    "connections = {}\n",
    "connections[('New York', 'Seattle')] = 100\n",
    "connections[('Austin', 'New York')] = 200\n",
    "connections[('New York', 'Austin')] = 400\n",
    "print(connections[('Austin', 'New York')])\n",
    "print(connections[('New York', 'Austin')])\n",
    "# 元组是有序的，因此 ('New York', 'Austin') 和 ('Austin', 'New York') 是两个不同的键"
   ]
  },
  {
   "cell_type": "markdown",
   "metadata": {},
   "source": [
    "### 字典方法"
   ]
  },
  {
   "cell_type": "markdown",
   "metadata": {},
   "source": [
    "#### get方法\n",
    "用索引可以找到一个键对应的值，但是当字典中没有这个键的时候，Python会报错，这时候可以使用字典的 get 方法来处理这种情况，其用法如下：\n",
    "`d.get(key, default = None)`\n",
    "\n",
    "返回字典中键 key 对应的值，如果没有这个键，返回 default 指定的值（默认是 None ）。"
   ]
  },
  {
   "cell_type": "markdown",
   "metadata": {},
   "source": [
    "#### pop方法删除元素\n",
    "pop 方法可以用来弹出字典中某个键对应的值，同时也可以指定默认参数：\n",
    "`d.pop(key, default = None)`\n",
    "\n",
    "删除并返回字典中键 key 对应的值，如果没有这个键，返回 default 指定的值（默认是 None ）。"
   ]
  },
  {
   "cell_type": "markdown",
   "metadata": {},
   "source": [
    "#### update方法更新字典\n",
    "通过索引可以插入、修改单个键值对，但同时对多个键值对进行操作则较麻烦，可使用`update`方法\n",
    "`d.update(newd)`"
   ]
  },
  {
   "cell_type": "code",
   "execution_count": 10,
   "metadata": {},
   "outputs": [
    {
     "name": "stdout",
     "output_type": "stream",
     "text": [
      "{'first': 'Jmes', 'last': 'Maxwell', 'born': 1831}\n",
      "{'first': 'James', 'last': 'Maxwell', 'born': 1831, 'middle': 'Clerk'}\n"
     ]
    }
   ],
   "source": [
    "person = {}\n",
    "person['first'] = \"Jmes\"\n",
    "person['last'] = \"Maxwell\"\n",
    "person['born'] = 1831\n",
    "print(person)\n",
    "# 把'first'改成'James'，同时插入'middle'的值'Clerk'\n",
    "person_modifications = {'first': 'James', 'middle': 'Clerk'}\n",
    "person.update(person_modifications)\n",
    "print(person)"
   ]
  },
  {
   "cell_type": "markdown",
   "metadata": {},
   "source": [
    "## 集合\n",
    "### 集合生成"
   ]
  },
  {
   "cell_type": "code",
   "execution_count": 11,
   "metadata": {},
   "outputs": [
    {
     "name": "stdout",
     "output_type": "stream",
     "text": [
      "type(a): <class 'set'>\n",
      "a: {1, 2, 3}\n",
      "a: {1, 2, 3}\n",
      "type(s) <class 'dict'>\n"
     ]
    }
   ],
   "source": [
    "# 可以用set()函数\n",
    "a=set()\n",
    "print(\"type(a):\",type(a))\n",
    "# 可以使用列表作为set()的参数来初始化集合，自动去除重复元素\n",
    "a=set([1,2,3,1])\n",
    "print(\"a:\",a)\n",
    "# 也可以用{ }来创建非空集合\n",
    "a = {1, 2, 3, 1}\n",
    "print(\"a:\",a)\n",
    "# {}则会创建空字典\n",
    "s = {}\n",
    "print(\"type(s)\",type(s))"
   ]
  },
  {
   "cell_type": "markdown",
   "metadata": {},
   "source": [
    "### 集合操作\n",
    "#### 并\n",
    "两个集合的并，返回包含两个集合所有元素的集合（去除重复）。\n",
    "可以用方法 `a.union(b)` 或者操作 `a | b` 实现。\n",
    "\n",
    "#### 交\n",
    "两个集合的交，返回包含两个集合共有元素的集合。\n",
    "可以用方法 `a.intersection(b)` 或者操作 `a & b` 实现。\n",
    "\n",
    "#### 差\n",
    "a 和 b 的差集，返回只在 a 不在 b 的元素组成的集合。\n",
    "可以用方法 `a.difference(b)` 或者操作 `a - b` 实现。\n",
    "\n",
    "#### 对称差\n",
    "a 和b 的对称差集，返回在 a 或在 b 中，但是不同时在 a 和 b 中的元素组成的集合。\n",
    "可以用方法 `a.symmetric_difference(b)` 或者操作 `a ^ b` 实现（异或操作符）。\n",
    "\n",
    "#### 包含关系\n",
    "要判断 b 是不是 a 的子集，可以用 `b.issubset(a)` 方法，或者更简单的用操作 `b <= a`\n",
    "(方法`issubset()`只能用来测试子集，但是操作符可以用来判断真子集)"
   ]
  },
  {
   "cell_type": "markdown",
   "metadata": {},
   "source": [
    "### 集合方法\n",
    "#### add 方法向集合添加单个元素\n",
    "跟列表的 append 方法类似，用来向集合添加单个元素。\n",
    "s.add(a)将元素 a 加入集合 s 中\n",
    "#### update 方法向集合添加多个元素\n",
    "跟列表的extend方法类似，用来向集合添加多个元素。\n",
    "s.update(seq)将seq中的元素添加到s中\n",
    "#### remove 方法移除单个元素\n",
    "s.remove(ob)从集合s中移除元素ob，如果不存在会报错\n",
    "#### discard 方法\n",
    "作用与 remove 一样，但是当元素在**集合中不存在的时候不会报错**\n",
    "#### difference_update方法\n",
    "a.difference_update(b)从a中去除所有属于b的元素\n",
    "#### pop方法弹出元素\n",
    "由于集合没有顺序，不能像列表一样按照位置弹出元素，所以pop 方法删除并返回集合中任意一个元素，如果集合中没有元素会报错"
   ]
  },
  {
   "cell_type": "markdown",
   "metadata": {},
   "source": [
    "### 不可变集合\n",
    "对应于元组（tuple）与列表（list）的关系，对于集合（set），Python提供了一种叫做不可变集合（frozen set）的数据结构。\n",
    "使用`frozenset()`来进行创建"
   ]
  },
  {
   "cell_type": "markdown",
   "metadata": {},
   "source": [
    "## Python 赋值机制"
   ]
  }
 ],
 "metadata": {
  "kernelspec": {
   "display_name": "Python 3",
   "language": "python",
   "name": "python3"
  },
  "language_info": {
   "codemirror_mode": {
    "name": "ipython",
    "version": 3
   },
   "file_extension": ".py",
   "mimetype": "text/x-python",
   "name": "python",
   "nbconvert_exporter": "python",
   "pygments_lexer": "ipython3",
   "version": "3.8.5"
  }
 },
 "nbformat": 4,
 "nbformat_minor": 4
}
